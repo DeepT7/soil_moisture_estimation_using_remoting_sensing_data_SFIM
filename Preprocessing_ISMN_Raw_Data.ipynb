{
 "cells": [
  {
   "cell_type": "markdown",
   "id": "828818a4",
   "metadata": {},
   "source": [
    "# Preprocess the soil moisutre from the international soil moisture network "
   ]
  },
  {
   "cell_type": "markdown",
   "id": "c997901e",
   "metadata": {},
   "source": [
    "## Soil moisture from ISMN"
   ]
  },
  {
   "cell_type": "code",
   "execution_count": 1,
   "id": "74c3b9f9",
   "metadata": {},
   "outputs": [],
   "source": [
    "import os\n",
    "import re\n",
    "import pandas as pd\n",
    "import numpy as np\n",
    "import utils\n",
    "import glob\n",
    "\n",
    "# path to the the raw data downloaded from the ISMN\n",
    "network_dir= 'SMN_raw'\n",
    "# path to the site specific daily averaged soil moisutre (<= 5cm )\n",
    "out_dir='daily_ave'\n",
    "# path to a table with the details of sites\n",
    "site_info_file='site_info.csv'\n",
    "s_time=\"2020-01-01\" # start and end date\n",
    "e_time=\"2022-12-31\""
   ]
  },
  {
   "cell_type": "code",
   "execution_count": 2,
   "id": "69e51a11",
   "metadata": {},
   "outputs": [
    {
     "name": "stdout",
     "output_type": "stream",
     "text": [
      "130\n"
     ]
    }
   ],
   "source": [
    "temp_sm_file_list = glob.glob(network_dir+\"/*/*/*_sm_*.stm\", recursive=True)\n",
    "print(len(temp_sm_file_list))\n",
    "for file_path in temp_sm_file_list:\n",
    "    temp=re.search(r'0.\\d{6}_0.\\d{6}',file_path)\n",
    "    # if temp:\n",
    "    #     print(float(temp.group().split('_')[1]))\n",
    "# temp_sm_file_list"
   ]
  },
  {
   "cell_type": "code",
   "execution_count": 3,
   "id": "23b4e392",
   "metadata": {},
   "outputs": [
    {
     "name": "stdout",
     "output_type": "stream",
     "text": [
      "True\n"
     ]
    }
   ],
   "source": [
    "print(os.path.exists('SMN_raw/VDS'))"
   ]
  },
  {
   "cell_type": "markdown",
   "id": "bf4a74a1",
   "metadata": {},
   "source": [
    "Get all the raw soil moisture files for the layer of <= 5 cm "
   ]
  },
  {
   "cell_type": "code",
   "execution_count": 4,
   "id": "91cae6be",
   "metadata": {},
   "outputs": [
    {
     "data": {
      "text/plain": [
       "['SMN_raw\\\\SCAN\\\\BosqueSeco\\\\SCAN_SCAN_BosqueSeco_sm_0.050800_0.050800_Hydraprobe-Analog-(2.5-Volt)_20200101_20221231.stm',\n",
       " 'SMN_raw\\\\SCAN\\\\Combate\\\\SCAN_SCAN_Combate_sm_0.050800_0.050800_Hydraprobe-Analog-(2.5-Volt)_20200101_20221231.stm',\n",
       " 'SMN_raw\\\\SCAN\\\\Isabela\\\\SCAN_SCAN_Isabela_sm_0.050800_0.050800_Hydraprobe-Analog-(2.5-Volt)_20200101_20221231.stm',\n",
       " 'SMN_raw\\\\SCAN\\\\Kainaliu\\\\SCAN_SCAN_Kainaliu_sm_0.050800_0.050800_Hydraprobe-Analog-(2.5-Volt)-A_20200101_20221231.stm',\n",
       " 'SMN_raw\\\\SCAN\\\\Kainaliu\\\\SCAN_SCAN_Kainaliu_sm_0.050800_0.050800_Hydraprobe-Analog-(2.5-Volt)-B_20200101_20221231.stm',\n",
       " 'SMN_raw\\\\SCAN\\\\KemoleGulch\\\\SCAN_SCAN_KemoleGulch_sm_0.050800_0.050800_Hydraprobe-Analog-(2.5-Volt)_20200101_20221231.stm',\n",
       " 'SMN_raw\\\\SCAN\\\\Kukuihaele\\\\SCAN_SCAN_Kukuihaele_sm_0.050800_0.050800_Hydraprobe-Analog-(2.5-Volt)_20200101_20221231.stm',\n",
       " 'SMN_raw\\\\SCAN\\\\ManaHouse\\\\SCAN_SCAN_ManaHouse_sm_0.050800_0.050800_Hydraprobe-Analog-(2.5-Volt)_20200101_20221231.stm',\n",
       " 'SMN_raw\\\\SCAN\\\\MaricaoForest\\\\SCAN_SCAN_MaricaoForest_sm_0.050800_0.050800_Hydraprobe-Analog-(2.5-Volt)_20200101_20221231.stm',\n",
       " 'SMN_raw\\\\SCAN\\\\SilverSword\\\\SCAN_SCAN_SilverSword_sm_0.050800_0.050800_Hydraprobe-Analog-(2.5-Volt)_20200101_20221231.stm',\n",
       " 'SMN_raw\\\\SCAN\\\\WaimeaPlain\\\\SCAN_SCAN_WaimeaPlain_sm_0.050800_0.050800_Hydraprobe-Analog-(2.5-Volt)_20200101_20221231.stm',\n",
       " 'SMN_raw\\\\TAHMO\\\\CRIG(SoilMoistureStation1)\\\\TAHMO_TAHMO_CRIG(SoilMoistureStation1)_sm_0.050000_0.050000_TEROS10_20200101_20221231.stm',\n",
       " 'SMN_raw\\\\TAHMO\\\\CRIG(SoilMoistureStation2)\\\\TAHMO_TAHMO_CRIG(SoilMoistureStation2)_sm_0.050000_0.050000_TEROS10_20200101_20221231.stm',\n",
       " 'SMN_raw\\\\TAHMO\\\\CSIR-SARI,Nyankpala-Tamale\\\\TAHMO_TAHMO_CSIR-SARI,Nyankpala-Tamale_sm_0.050000_0.050000_TEROS12_20200101_20221231.stm',\n",
       " 'SMN_raw\\\\TAHMO\\\\KNUSTFarm,Kumasi\\\\TAHMO_TAHMO_KNUSTFarm,Kumasi_sm_0.050000_0.050000_TEROS12_20200101_20221231.stm']"
      ]
     },
     "execution_count": 4,
     "metadata": {},
     "output_type": "execute_result"
    }
   ],
   "source": [
    "if not os.path.exists(out_dir):\n",
    "    os.mkdir(out_dir)\n",
    "sm_file_list = utils.listdir_sm(network_dir)\n",
    "# print(network_dir.split('\\\\')[-1]+' files: '+str(len(sm_file_list)))\n",
    "sm_file_list"
   ]
  },
  {
   "cell_type": "markdown",
   "id": "dd8bf929",
   "metadata": {},
   "source": [
    "Calculate daily average soil moisture for each site and save the multiple measurements of the same site to one file"
   ]
  },
  {
   "cell_type": "code",
   "execution_count": 5,
   "id": "0f38506a",
   "metadata": {},
   "outputs": [],
   "source": [
    "sm_file_list=utils.listdir_sm(network_dir)\n",
    "for file_sm in sm_file_list:\n",
    "    #file_sm=sm_file_list[0]\n",
    "    file_ts=file_sm.replace('sm','ts') \n",
    "    h,sm=utils.readstm_all(file_sm,'sm',s_time,e_time)# read sm\n",
    "    #sm=sm.groupby(level=0).mean()\n",
    "    if type(sm)!=pd.DataFrame:\n",
    "        continue\n",
    "    \n",
    "    if os.path.exists(file_ts):\n",
    "        _,ts=utils.readstm_all(file_ts,'ts',s_time,e_time)# read surface temperature\n",
    "        #ts=ts.groupby(level=0).mean()\n",
    "    else:\n",
    "        ts = pd.DataFrame(np.nan, index=sm.index, columns=['ts']) # for sites without ts measurements, nan was used\n",
    "    site_out = pd.concat([sm,ts['ts']],axis=1)\n",
    "    #site_out = site_out.loc[:,~site_out.columns.duplicated()]# drop duplicated columns\n",
    "    #site_file=os.path.join(out_dir,h.loc[0][0]+'_'+h.loc[0][1]+'_'+str(h.loc[0][4])+'_'+str(h.loc[0][5])+'.csv')\n",
    "    site_file=os.path.join(out_dir,h.iloc[0, 0]+'_'+h.iloc[0, 1]+'.csv') # All the observations < 5 cm was averaged\n",
    "    if os.path.exists(site_file):\n",
    "        # average the values observated at the same depth or the target layer\n",
    "        site_pre=pd.read_csv(site_file,index_col=\"time\", parse_dates=True)\n",
    "        #site_out['sample_num']=site_pre['sample_num']+1\n",
    "        #print(h.loc[0][0]+'_'+h.loc[0][1]+':'+str(site_out['sample_num'][0]))\n",
    "        #site_out['sm']=(site_pre['sm']*site_pre['sample_num']+site_out['sm'])/(site_out['sample_num'])\n",
    "        #site_out['ts']=(site_pre['ts']*site_pre['sample_num']+site_out['ts'])/(site_out['sample_num'])\n",
    "        # site_out=site_pre.append(site_out)\n",
    "        site_out = pd.concat([site_pre, site_out])\n",
    "        #site_out=site_out.groupby(level=0).mean()\n",
    "        site_out.to_csv(site_file)\n",
    "    else:\n",
    "        #site_out['sample_num']=1\n",
    "        site_out.to_csv(site_file)\n",
    "        sm_file_dir,_=os.path.split(file_sm)# extract soil texture\n",
    "        site_static_file=glob.glob(os.path.join(sm_file_dir,'*.csv'))[0]\n",
    "        clay, sand = utils.parse_site_soil_texture(site_static_file)\n",
    "        h['clay']=clay\n",
    "        h['sand']=sand\n",
    "        h['slit']=1-clay-sand\n",
    "        if os.path.exists(site_info_file):\n",
    "            site_info_pre=pd.read_csv(site_info_file)\n",
    "            # site_info_out=site_info_pre.append(h)\n",
    "            site_info_out=pd.concat([site_info_pre, h])\n",
    "            site_info_out=site_info_out.drop_duplicates()\n",
    "            site_info_out.to_csv(site_info_file,index=False)\n",
    "        else:\n",
    "            h.to_csv(site_info_file,index=False)"
   ]
  },
  {
   "cell_type": "markdown",
   "id": "c46d9dc3",
   "metadata": {},
   "source": [
    "Average multiple measurements collected from the same layer or depth"
   ]
  },
  {
   "cell_type": "code",
   "execution_count": 6,
   "id": "cc29e828",
   "metadata": {},
   "outputs": [
    {
     "name": "stdout",
     "output_type": "stream",
     "text": [
      "Number of sites including a few Yanco sites : 14\n"
     ]
    }
   ],
   "source": [
    "site_files = os.listdir(out_dir)\n",
    "print('Number of sites including a few Yanco sites : %s'%len(site_files))\n",
    "for site_file in site_files: # calculate the mean of multiple measurements within the same layer or depth \n",
    "    site_out=pd.read_csv(os.path.join(out_dir,site_file),index_col=\"time\", parse_dates=True)\n",
    "    sm_count=site_out['sm'].groupby(level=0).count().rename('sm_count')\n",
    "    site_out=site_out.groupby(level=0).mean()\n",
    "    site_out = pd.concat([site_out,sm_count],axis=1) # each row includes the dateframe, sm, ts and number of sm measurements \n",
    "    site_out.to_csv(os.path.join(out_dir,site_file))"
   ]
  }
 ],
 "metadata": {
  "kernelspec": {
   "display_name": "myenv",
   "language": "python",
   "name": "python3"
  },
  "language_info": {
   "codemirror_mode": {
    "name": "ipython",
    "version": 3
   },
   "file_extension": ".py",
   "mimetype": "text/x-python",
   "name": "python",
   "nbconvert_exporter": "python",
   "pygments_lexer": "ipython3",
   "version": "3.9.16"
  }
 },
 "nbformat": 4,
 "nbformat_minor": 5
}
