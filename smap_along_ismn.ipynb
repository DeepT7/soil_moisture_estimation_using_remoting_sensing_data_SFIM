{
 "cells": [
  {
   "cell_type": "code",
   "execution_count": 1,
   "metadata": {},
   "outputs": [],
   "source": [
    "import ee\n",
    "import geemap \n",
    "import geopandas\n",
    "import h5py\n",
    "import numpy as np\n",
    "import rasterio\n",
    "import pandas as pd\n",
    "import glob\n",
    "import os"
   ]
  },
  {
   "cell_type": "code",
   "execution_count": 2,
   "metadata": {},
   "outputs": [
    {
     "data": {
      "text/html": [
       "\n",
       "            <style>\n",
       "                .geemap-dark {\n",
       "                    --jp-widgets-color: white;\n",
       "                    --jp-widgets-label-color: white;\n",
       "                    --jp-ui-font-color1: white;\n",
       "                    --jp-layout-color2: #454545;\n",
       "                    background-color: #383838;\n",
       "                }\n",
       "\n",
       "                .geemap-dark .jupyter-button {\n",
       "                    --jp-layout-color3: #383838;\n",
       "                }\n",
       "\n",
       "                .geemap-colab {\n",
       "                    background-color: var(--colab-primary-surface-color, white);\n",
       "                }\n",
       "\n",
       "                .geemap-colab .jupyter-button {\n",
       "                    --jp-layout-color3: var(--colab-primary-surface-color, white);\n",
       "                }\n",
       "            </style>\n",
       "            "
      ],
      "text/plain": [
       "<IPython.core.display.HTML object>"
      ]
     },
     "metadata": {},
     "output_type": "display_data"
    },
    {
     "data": {
      "text/html": [
       "<p>To authorize access needed by Earth Engine, open the following\n",
       "        URL in a web browser and follow the instructions:</p>\n",
       "        <p><a href=https://code.earthengine.google.com/client-auth?scopes=https%3A//www.googleapis.com/auth/earthengine%20https%3A//www.googleapis.com/auth/cloud-platform%20https%3A//www.googleapis.com/auth/devstorage.full_control&request_id=2sB2t2Bif_lcboHT5_5qoIBzcGEfcbdwOmt1xKwNEeM&tc=frdugWikXH3quq1SXASZl3_YKQf5H4Kvsjru35w0QwQ&cc=2yzLEN0wLsNx8-kuuIAkxhGkOThaM0cxOD6Filavx-0>https://code.earthengine.google.com/client-auth?scopes=https%3A//www.googleapis.com/auth/earthengine%20https%3A//www.googleapis.com/auth/cloud-platform%20https%3A//www.googleapis.com/auth/devstorage.full_control&request_id=2sB2t2Bif_lcboHT5_5qoIBzcGEfcbdwOmt1xKwNEeM&tc=frdugWikXH3quq1SXASZl3_YKQf5H4Kvsjru35w0QwQ&cc=2yzLEN0wLsNx8-kuuIAkxhGkOThaM0cxOD6Filavx-0</a></p>\n",
       "        <p>The authorization workflow will generate a code, which you should paste in the box below.</p>\n",
       "        "
      ],
      "text/plain": [
       "<IPython.core.display.HTML object>"
      ]
     },
     "metadata": {},
     "output_type": "display_data"
    },
    {
     "name": "stdout",
     "output_type": "stream",
     "text": [
      "\n",
      "Successfully saved authorization token.\n"
     ]
    }
   ],
   "source": [
    "ee.Authenticate(force=True)\n",
    "ee.Initialize()"
   ]
  },
  {
   "cell_type": "code",
   "execution_count": 3,
   "metadata": {},
   "outputs": [
    {
     "data": {
      "text/html": [
       "\n",
       "            <style>\n",
       "                .geemap-dark {\n",
       "                    --jp-widgets-color: white;\n",
       "                    --jp-widgets-label-color: white;\n",
       "                    --jp-ui-font-color1: white;\n",
       "                    --jp-layout-color2: #454545;\n",
       "                    background-color: #383838;\n",
       "                }\n",
       "\n",
       "                .geemap-dark .jupyter-button {\n",
       "                    --jp-layout-color3: #383838;\n",
       "                }\n",
       "\n",
       "                .geemap-colab {\n",
       "                    background-color: var(--colab-primary-surface-color, white);\n",
       "                }\n",
       "\n",
       "                .geemap-colab .jupyter-button {\n",
       "                    --jp-layout-color3: var(--colab-primary-surface-color, white);\n",
       "                }\n",
       "            </style>\n",
       "            "
      ],
      "text/plain": [
       "<IPython.core.display.HTML object>"
      ]
     },
     "metadata": {},
     "output_type": "display_data"
    }
   ],
   "source": [
    "# Read csv file and get the information of sites' location (lat, lon)\n",
    "sites_info = pd.read_csv('site_info.csv')\n",
    "sites_info['name'] = sites_info['network']+ '_' + sites_info['station']\n",
    "# print(sites_info.head())\n",
    "\n",
    "# Get the geometry of sites\n",
    "sites = {}\n",
    "for i in range(len(sites_info)):\n",
    "    site = sites_info.iloc[i]\n",
    "    sites[site['name']] = ee.Geometry.Point(site['lon'], site['lat'])\n",
    "\n"
   ]
  },
  {
   "cell_type": "code",
   "execution_count": 4,
   "metadata": {},
   "outputs": [
    {
     "data": {
      "text/html": [
       "\n",
       "            <style>\n",
       "                .geemap-dark {\n",
       "                    --jp-widgets-color: white;\n",
       "                    --jp-widgets-label-color: white;\n",
       "                    --jp-ui-font-color1: white;\n",
       "                    --jp-layout-color2: #454545;\n",
       "                    background-color: #383838;\n",
       "                }\n",
       "\n",
       "                .geemap-dark .jupyter-button {\n",
       "                    --jp-layout-color3: #383838;\n",
       "                }\n",
       "\n",
       "                .geemap-colab {\n",
       "                    background-color: var(--colab-primary-surface-color, white);\n",
       "                }\n",
       "\n",
       "                .geemap-colab .jupyter-button {\n",
       "                    --jp-layout-color3: var(--colab-primary-surface-color, white);\n",
       "                }\n",
       "            </style>\n",
       "            "
      ],
      "text/plain": [
       "<IPython.core.display.HTML object>"
      ]
     },
     "metadata": {},
     "output_type": "display_data"
    },
    {
     "data": {
      "text/plain": [
       "['SCAN_Bosque_Seco',\n",
       " 'SCAN_Combate',\n",
       " 'SCAN_Isabela',\n",
       " 'SCAN_Kainaliu',\n",
       " 'SCAN_Kemole_Gulch',\n",
       " 'SCAN_Kukuihaele',\n",
       " 'SCAN_Mana_House',\n",
       " 'SCAN_Maricao_Forest',\n",
       " 'SCAN_Silver_Sword',\n",
       " 'SCAN_Waimea_Plain',\n",
       " 'TAHMO_CRIG_(Soil_Moisture_Station_1)',\n",
       " 'TAHMO_CRIG_(Soil_Moisture_Station_2)',\n",
       " 'TAHMO_CSIR-SARI,_Nyankpala_-_Tamale',\n",
       " 'TAHMO_KNUST_Farm,_Kumasi']"
      ]
     },
     "execution_count": 4,
     "metadata": {},
     "output_type": "execute_result"
    }
   ],
   "source": [
    "dir = 'daily_ave'\n",
    "file_names = os.listdir(dir)\n",
    "file_names = [f.split('.c')[0] for f in file_names]\n",
    "file_names"
   ]
  },
  {
   "cell_type": "code",
   "execution_count": null,
   "metadata": {},
   "outputs": [
    {
     "data": {
      "text/html": [
       "\n",
       "            <style>\n",
       "                .geemap-dark {\n",
       "                    --jp-widgets-color: white;\n",
       "                    --jp-widgets-label-color: white;\n",
       "                    --jp-ui-font-color1: white;\n",
       "                    --jp-layout-color2: #454545;\n",
       "                    background-color: #383838;\n",
       "                }\n",
       "\n",
       "                .geemap-dark .jupyter-button {\n",
       "                    --jp-layout-color3: #383838;\n",
       "                }\n",
       "\n",
       "                .geemap-colab {\n",
       "                    background-color: var(--colab-primary-surface-color, white);\n",
       "                }\n",
       "\n",
       "                .geemap-colab .jupyter-button {\n",
       "                    --jp-layout-color3: var(--colab-primary-surface-color, white);\n",
       "                }\n",
       "            </style>\n",
       "            "
      ],
      "text/plain": [
       "<IPython.core.display.HTML object>"
      ]
     },
     "metadata": {},
     "output_type": "display_data"
    },
    {
     "name": "stdout",
     "output_type": "stream",
     "text": [
      "daily_ave/SCAN_Bosque_Seco.csv\n",
      "1096\n",
      "Processed :  SCAN_Bosque_Seco\n",
      "daily_ave/SCAN_Combate.csv\n",
      "1096\n",
      "Processed :  SCAN_Combate\n",
      "daily_ave/SCAN_Isabela.csv\n",
      "1096\n",
      "Processed :  SCAN_Isabela\n",
      "daily_ave/SCAN_Kainaliu.csv\n",
      "1096\n",
      "Processed :  SCAN_Kainaliu\n",
      "daily_ave/SCAN_Kemole_Gulch.csv\n",
      "1096\n",
      "Processed :  SCAN_Kemole_Gulch\n",
      "daily_ave/SCAN_Kukuihaele.csv\n",
      "1096\n",
      "Processed :  SCAN_Kukuihaele\n",
      "daily_ave/SCAN_Mana_House.csv\n",
      "1096\n",
      "Processed :  SCAN_Mana_House\n",
      "daily_ave/SCAN_Maricao_Forest.csv\n",
      "1096\n",
      "Processed :  SCAN_Maricao_Forest\n",
      "daily_ave/SCAN_Silver_Sword.csv\n",
      "1096\n",
      "Processed :  SCAN_Silver_Sword\n",
      "daily_ave/SCAN_Waimea_Plain.csv\n",
      "1096\n",
      "Processed :  SCAN_Waimea_Plain\n",
      "daily_ave/TAHMO_CRIG_(Soil_Moisture_Station_1).csv\n",
      "1096\n",
      "Processed :  TAHMO_CRIG_(Soil_Moisture_Station_1)\n",
      "daily_ave/TAHMO_CRIG_(Soil_Moisture_Station_2).csv\n",
      "1096\n",
      "Processed :  TAHMO_CRIG_(Soil_Moisture_Station_2)\n",
      "daily_ave/TAHMO_CSIR-SARI,_Nyankpala_-_Tamale.csv\n",
      "1096\n",
      "Processed :  TAHMO_CSIR-SARI,_Nyankpala_-_Tamale\n",
      "daily_ave/TAHMO_KNUST_Farm,_Kumasi.csv\n",
      "1096\n",
      "Processed :  TAHMO_KNUST_Farm,_Kumasi\n"
     ]
    }
   ],
   "source": [
    "dir = 'daily_ave'\n",
    "file_names = os.listdir(dir)\n",
    "file_names = [f.split('.c')[0] for f in file_names]\n",
    "output_dir = 'daily_smap'\n",
    "\n",
    "for file_name in file_names:\n",
    "    file_path = f'{dir}/{file_name}.csv'\n",
    "    print(file_path)\n",
    "    # Read csv file of each site \n",
    "    df = pd.read_csv(file_path)\n",
    "    print(len(df))\n",
    "\n",
    "    # Drop rows where 'sm' columns doesn't have values\n",
    "    valid_rows = df.dropna(subset=['sm'])\n",
    "\n",
    "    point_fc = ee.FeatureCollection([ee.Feature(sites[file_name], {'name': file_name})])\n",
    "    smap = ee.ImageCollection('NASA/SMAP/SPL3SMP_E/005') \\\n",
    "            .filterDate('2020-01-01', '2022-12-31') \\\n",
    "            .select(['soil_moisture_a', 'soil_moisture_pm'])\n",
    "    # function get SMAP data \n",
    "    def get_smap_data(date, point_fc, smap):\n",
    "        # Get SMAP image colelction\n",
    "        # Load SMAP dataset\n",
    "        \n",
    "        smap_image = smap.filterDate(date).first()\n",
    "        if smap_image:\n",
    "            sampled = smap_image.sampleRegions(\n",
    "            collection=point_fc, \n",
    "            scale=9000, \n",
    "            properties=['name'], \n",
    "            geometries=True  # This will keep the pixel locations\n",
    "            )\n",
    "            try:\n",
    "                return sampled.getInfo()\n",
    "            except:\n",
    "                return None\n",
    "        return None \n",
    "        \n",
    "\n",
    "    time_info = valid_rows['time']\n",
    "\n",
    "    df['smap_soil_moisture_am'] = np.nan\n",
    "    df['smap_soil_moisture_pm'] = np.nan\n",
    "    df['smap_lon'] = np.nan\n",
    "    df['smap_lat'] = np.nan\n",
    "\n",
    "\n",
    "    for index, row in valid_rows.iterrows():\n",
    "        date = row['time']\n",
    "        # print(index)\n",
    "        smap_data = get_smap_data(date, point_fc, smap)\n",
    "        if smap_data:\n",
    "            if len(smap_data['features']) == 0:\n",
    "                continue\n",
    "            df.loc[index, 'smap_soil_moisture_am'] = 0.25\n",
    "            df.loc[index, 'smap_soil_moisture_am'] = smap_data['features'][0]['properties']['soil_moisture_am']\n",
    "            df.loc[index, 'smap_soil_moisture_pm'] = smap_data['features'][0]['properties']['soil_moisture_pm']\n",
    "            df.loc[index, 'smap_lon'] = smap_data['features'][0]['geometry']['coordinates'][0]\n",
    "            df.loc[index, 'smap_lat'] = smap_data['features'][0]['geometry']['coordinates'][1]\n",
    "        else:\n",
    "            continue\n",
    "\n",
    "    df.to_csv(f'{output_dir}/{file_name}_smap.csv', index=False)\n",
    "    print(\"Processed : \", file_name)"
   ]
  },
  {
   "cell_type": "code",
   "execution_count": 61,
   "metadata": {},
   "outputs": [
    {
     "data": {
      "text/html": [
       "\n",
       "            <style>\n",
       "                .geemap-dark {\n",
       "                    --jp-widgets-color: white;\n",
       "                    --jp-widgets-label-color: white;\n",
       "                    --jp-ui-font-color1: white;\n",
       "                    --jp-layout-color2: #454545;\n",
       "                    background-color: #383838;\n",
       "                }\n",
       "\n",
       "                .geemap-dark .jupyter-button {\n",
       "                    --jp-layout-color3: #383838;\n",
       "                }\n",
       "\n",
       "                .geemap-colab {\n",
       "                    background-color: var(--colab-primary-surface-color, white);\n",
       "                }\n",
       "\n",
       "                .geemap-colab .jupyter-button {\n",
       "                    --jp-layout-color3: var(--colab-primary-surface-color, white);\n",
       "                }\n",
       "            </style>\n",
       "            "
      ],
      "text/plain": [
       "<IPython.core.display.HTML object>"
      ]
     },
     "metadata": {},
     "output_type": "display_data"
    },
    {
     "name": "stdout",
     "output_type": "stream",
     "text": [
      "{'type': 'FeatureCollection', 'columns': {}, 'properties': {'band_order': ['soil_moisture_am', 'soil_moisture_pm']}, 'features': [{'type': 'Feature', 'geometry': {'geodesic': False, 'type': 'Point', 'coordinates': [96.54186868992244, 17.49568409019807]}, 'id': '0_0', 'properties': {'name': 'Hpayargyi', 'soil_moisture_am': 0.27425259351730347, 'soil_moisture_pm': 0.28482693433761597}}]}\n",
      "\n",
      "Coordinates of the features:\n",
      "[96.54186868992244, 17.49568409019807]\n"
     ]
    }
   ],
   "source": [
    "import ee\n",
    "\n",
    "# Initialize GEE\n",
    "ee.Initialize()\n",
    "\n",
    "# Define points\n",
    "points = [\n",
    "    {'name': 'Hpayargyi', 'lon': 96.5302, 'lat': 17.4661},\n",
    "    # {'name': 'Thanatpin', 'lon': 96.5731, 'lat': 17.2921},\n",
    "    # {'name': 'Alaigni', 'lon': 96.3465, 'lat': 17.263},\n",
    "    # {'name': 'Irrigation_Technology_Centre', 'lon': 96.4519, 'lat': 17.3144}\n",
    "]\n",
    "\n",
    "# Convert points to FeatureCollection\n",
    "features = [ee.Feature(ee.Geometry.Point(p['lon'], p['lat']), {'name': p['name']}) for p in points]\n",
    "point_fc = ee.FeatureCollection(features)\n",
    "\n",
    "# Load SMAP dataset\n",
    "smap = ee.ImageCollection('NASA/SMAP/SPL3SMP_E/005') \\\n",
    "        .filterDate('2020-01-01', '2022-12-31') \\\n",
    "        .select(['soil_moisture_am', 'soil_moisture_pm'])\n",
    "\n",
    "# Function to sample SMAP at points for a given date\n",
    "def sample_smap(date):\n",
    "    # smap_image = smap.filterDate(date, ee.Date(date).advance(5, 'day')).mosaic()\n",
    "    smap_image = smap.filterDate(date).first()\n",
    "    if smap_image:\n",
    "        sampled = smap_image.sampleRegions(\n",
    "        collection=point_fc, \n",
    "        scale=9000, \n",
    "        properties=['name'], \n",
    "        geometries=True  # This will keep the pixel locations\n",
    "    )\n",
    "        return sampled\n",
    "    return None\n",
    "\n",
    "# Example: Extract data for a single date\n",
    "sampled_data = sample_smap('2020-02-16')\n",
    "if sampled_data:\n",
    "    print(sampled_data.getInfo())\n",
    "\n",
    "    print(\"\\nCoordinates of the features:\")\n",
    "    for feature in sampled_data.getInfo()['features']:\n",
    "        print(feature['geometry']['coordinates'])\n"
   ]
  },
  {
   "cell_type": "code",
   "execution_count": 18,
   "metadata": {},
   "outputs": [
    {
     "data": {
      "text/html": [
       "\n",
       "            <style>\n",
       "                .geemap-dark {\n",
       "                    --jp-widgets-color: white;\n",
       "                    --jp-widgets-label-color: white;\n",
       "                    --jp-ui-font-color1: white;\n",
       "                    --jp-layout-color2: #454545;\n",
       "                    background-color: #383838;\n",
       "                }\n",
       "\n",
       "                .geemap-dark .jupyter-button {\n",
       "                    --jp-layout-color3: #383838;\n",
       "                }\n",
       "\n",
       "                .geemap-colab {\n",
       "                    background-color: var(--colab-primary-surface-color, white);\n",
       "                }\n",
       "\n",
       "                .geemap-colab .jupyter-button {\n",
       "                    --jp-layout-color3: var(--colab-primary-surface-color, white);\n",
       "                }\n",
       "            </style>\n",
       "            "
      ],
      "text/plain": [
       "<IPython.core.display.HTML object>"
      ]
     },
     "metadata": {},
     "output_type": "display_data"
    },
    {
     "data": {
      "text/plain": [
       "0.288127601146698"
      ]
     },
     "execution_count": 18,
     "metadata": {},
     "output_type": "execute_result"
    }
   ],
   "source": [
    "s = sampled_data.getInfo()\n",
    "\n",
    "s['features'][0]['properties']['soil_moisture_am']"
   ]
  },
  {
   "cell_type": "code",
   "execution_count": null,
   "metadata": {},
   "outputs": [],
   "source": [
    "def calculate_bounding_box(lon, lat, pixel_size):\n",
    "    half_size = pixel_size / 2\n",
    "    return {\n",
    "        'min_lon': lon - half_size,\n",
    "        'max_lon': lon + half_size,\n",
    "        'min_lat': lat - half_size,\n",
    "        'max_lat': lat + half_size\n",
    "    }"
   ]
  },
  {
   "cell_type": "code",
   "execution_count": null,
   "metadata": {},
   "outputs": [],
   "source": [
    "import ee\n",
    "ee.Initialize()\n",
    "\n",
    "mosaic_days = 5\n",
    "\n",
    "# Load SMAP data \n",
    "smap = ee.ImageCollection('NASA/SMAP/SPL3SMP_E/005') \\\n",
    "        .filterDate('2022-12-10', '2022-12-31') \\\n",
    "        .select(['soil_moisture_am', 'soil_moisture_pm'])\n",
    "\n",
    "# Define points \n",
    "points = [\n",
    "    {'name': 'Hpayargyi', 'lon': 96.5302, 'lat': 17.4661},\n",
    "    {'name': 'Thanatpin', 'lon': 96.5731, 'lat': 17.2921},\n",
    "    {'name': 'Alaigni', 'lon': 96.3465, 'lat': 17.263},\n",
    "    {'name': 'Irrigation_Technology_Centre', 'lon': 96.4519, 'lat': 17.3144}\n",
    "]\n",
    "\n",
    "# Convert points to ee.FeatureCollection\n",
    "features = [ee.Feature(ee.Geometry.Point(p['lon'], p['lat']), {'name': p['name']}) for p in points]\n",
    "point_fc = ee.FeatureCollection(features)\n",
    "\n",
    "def get_smap_grid(start_date):\n",
    "    end_date = ee.Date(start_date).advance(mosaic_days, 'day')\n",
    "    \n",
    "    # Get a mosaic image \n",
    "    mosaic = smap.filterDate(start_date, end_date).mosaic()\n",
    "    \n",
    "    # Find valid SMAP pixels where either AM or PM soil moisture > 0\n",
    "    valid_mask = mosaic.select([\"soil_moisture_am\", \"soil_moisture_pm\"]).gt(0).reduce(\"max\")\n",
    "    \n",
    "    # Define the processing region as the bounds of the points\n",
    "    processing_region = point_fc.geometry().bounds()\n",
    "\n",
    "    # Convert valid pixels to grid cells (SMAP pixels are 9 km x 9 km)\n",
    "    smap_grid = valid_mask.updateMask(valid_mask).reduceToVectors(\n",
    "        reducer=ee.Reducer.countEvery(),\n",
    "        geometryType=\"centroid\",  # Get grid cell centers\n",
    "        scale=9000,  # SMAP resolution\n",
    "        geometry=processing_region,  # Restrict operation to relevant area\n",
    "        maxPixels=1e8\n",
    "    )\n",
    "\n",
    "    # Filter SMAP grid cells to only those containing the input points\n",
    "    valid_grids = smap_grid.filterBounds(point_fc)\n",
    "\n",
    "    return valid_grids\n",
    "\n",
    "# Get the valid SMAP grid cells over the specified period\n",
    "valid_grids = get_smap_grid('2022-12-20')\n",
    "\n",
    "# Use the SMAP grid cell locations to filter the SMAP dataset before exporting\n",
    "filtered_smap = smap.filterBounds(valid_grids.geometry())\n",
    "\n",
    "# Convert filtered images to a list\n",
    "filtered_images = filtered_smap.toList(filtered_smap.size())\n",
    "\n",
    "print(filtered_smap.size().getInfo())\n",
    "\n",
    "# Export each grid cell separately\n",
    "# for i in range(filtered_images.size().getInfo()):\n",
    "#     img = ee.Image(filtered_images.get(i))\n",
    "#     img_date = img.date().format(\"YYYY-MM-dd\").getInfo()\n",
    "    \n",
    "#     # Extract grid cell features\n",
    "#     grid_list = valid_grids.toList(valid_grids.size())\n",
    "#     for j in range(grid_list.size().getInfo()):\n",
    "#         grid = ee.Feature(grid_list.get(j))\n",
    "#         grid_geom = grid.geometry()\n",
    "        \n",
    "#         # Find points inside this grid cell\n",
    "#         covered_points = point_fc.filterBounds(grid_geom)\n",
    "#         point_names = covered_points.aggregate_array(\"name\").getInfo()\n",
    "\n",
    "#         if not point_names:\n",
    "#             point_names = [\"Unknown\"]  # Fallback if no named points\n",
    "\n",
    "#         # Format point names in filename\n",
    "#         point_names_str = \"_\".join(point_names).replace(\" \", \"_\")\n",
    "\n",
    "#         # Clip SMAP image to this grid cell\n",
    "#         clipped_img = img.clip(grid_geom)\n",
    "\n",
    "#         # Export\n",
    "#         task = ee.batch.Export.image.toDrive(\n",
    "#             image=clipped_img,\n",
    "#             description=f\"SMAP_{img_date}_{point_names_str}\",\n",
    "#             fileNamePrefix=f\"smap_{img_date}_{point_names_str}\",\n",
    "#             region=grid_geom.bounds().getInfo()[\"coordinates\"],\n",
    "#             scale=9000,\n",
    "#             fileFormat=\"GeoTIFF\"\n",
    "#         )\n",
    "        # task.start()\n"
   ]
  },
  {
   "cell_type": "code",
   "execution_count": null,
   "metadata": {},
   "outputs": [],
   "source": [
    "for i in range(available_images.size().getInfo()):\n",
    "    img = ee.Image(available_images.get(i))\n",
    "    date = img.date().format(\"YYYY-MM-dd\").getInfo()\n",
    "\n",
    "    print(date)\n",
    "    filtered_img = filter_smap_by_region(img)\n",
    "\n",
    "    if filtered_img:\n",
    "        print(f\"Downloading SMAP grid cells for {date}\")\n",
    "\n",
    "        task = ee.batch.Export.image.toDrive(\n",
    "            image=filtered_img,\n",
    "            description=f\"SMAP_Grid_{date}\",\n",
    "            fileNamePrefix=f\"smap_grid_{date}\",\n",
    "            region=filtered_img.geometry().bounds().getInfo()[\"coordinates\"],\n",
    "            scale=9000,\n",
    "            fileFormat=\"GeoTIFF\"\n",
    "        )"
   ]
  },
  {
   "cell_type": "code",
   "execution_count": 20,
   "metadata": {},
   "outputs": [
    {
     "data": {
      "text/html": [
       "\n",
       "            <style>\n",
       "                .geemap-dark {\n",
       "                    --jp-widgets-color: white;\n",
       "                    --jp-widgets-label-color: white;\n",
       "                    --jp-ui-font-color1: white;\n",
       "                    --jp-layout-color2: #454545;\n",
       "                    background-color: #383838;\n",
       "                }\n",
       "\n",
       "                .geemap-dark .jupyter-button {\n",
       "                    --jp-layout-color3: #383838;\n",
       "                }\n",
       "\n",
       "                .geemap-colab {\n",
       "                    background-color: var(--colab-primary-surface-color, white);\n",
       "                }\n",
       "\n",
       "                .geemap-colab .jupyter-button {\n",
       "                    --jp-layout-color3: var(--colab-primary-surface-color, white);\n",
       "                }\n",
       "            </style>\n",
       "            "
      ],
      "text/plain": [
       "<IPython.core.display.HTML object>"
      ]
     },
     "metadata": {},
     "output_type": "display_data"
    },
    {
     "name": "stderr",
     "output_type": "stream",
     "text": [
      "/tmp/ipykernel_5099/537135825.py:4: FutureWarning: The 'delim_whitespace' keyword in pd.read_csv is deprecated and will be removed in a future version. Use ``sep='\\s+'`` instead\n",
      "  ismn_data = pd.read_csv('SMN_raw/VDS/Hpayargyi/VDS_VDS_Hpayargyi_sm_0.100000_0.100000_GS1-Port-2_20200101_20221231.stm', comment='#', delim_whitespace=True)\n"
     ]
    }
   ],
   "source": [
    "import utils\n",
    "s_time=\"2020-01-01\" # start and end date\n",
    "e_time=\"2022-12-31\"\n",
    "ismn_data = pd.read_csv('SMN_raw/VDS/Hpayargyi/VDS_VDS_Hpayargyi_sm_0.100000_0.100000_GS1-Port-2_20200101_20221231.stm', comment='#', delim_whitespace=True)\n",
    "path = 'SMN_raw/VDS/Hpayargyi/VDS_VDS_Hpayargyi_sm_0.100000_0.100000_GS1-Port-2_20200101_20221231.stm'\n",
    "# ismn_data = utils.readstm_all(path,'sm',s_time, e_time)"
   ]
  }
 ],
 "metadata": {
  "kernelspec": {
   "display_name": "myenv",
   "language": "python",
   "name": "python3"
  },
  "language_info": {
   "codemirror_mode": {
    "name": "ipython",
    "version": 3
   },
   "file_extension": ".py",
   "mimetype": "text/x-python",
   "name": "python",
   "nbconvert_exporter": "python",
   "pygments_lexer": "ipython3",
   "version": "3.9.16"
  }
 },
 "nbformat": 4,
 "nbformat_minor": 2
}
