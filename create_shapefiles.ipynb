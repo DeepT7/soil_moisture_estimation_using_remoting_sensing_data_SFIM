{
 "cells": [
  {
   "cell_type": "code",
   "execution_count": 1,
   "metadata": {},
   "outputs": [],
   "source": [
    "import os\n",
    "import geopandas as gpd\n",
    "from shapely.geometry import Polygon\n",
    "from pyproj.crs import CRS \n",
    "import pandas as pd\n",
    "import ee"
   ]
  },
  {
   "cell_type": "code",
   "execution_count": 7,
   "metadata": {},
   "outputs": [
    {
     "name": "stdout",
     "output_type": "stream",
     "text": [
      "7\n"
     ]
    },
    {
     "data": {
      "text/plain": [
       "['SCAN_Kemole_Gulch_smap',\n",
       " 'SCAN_Kukuihaele_smap',\n",
       " 'SCAN_Mana_House_smap',\n",
       " 'SCAN_Silver_Sword_smap',\n",
       " 'SCAN_Waimea_Plain_smap',\n",
       " 'TAHMO_CRIG_(Soil_Moisture_Station_1)_smap',\n",
       " 'TAHMO_CRIG_(Soil_Moisture_Station_2)_smap']"
      ]
     },
     "execution_count": 7,
     "metadata": {},
     "output_type": "execute_result"
    }
   ],
   "source": [
    "dir = 'daily_smap'\n",
    "file_names = [f for f in os.listdir(dir) if f.endswith('.csv')]\n",
    "file_names = [f.split('.c')[0] for f in file_names]\n",
    "print(len(file_names))\n",
    "file_names.sort()\n",
    "file_names"
   ]
  },
  {
   "cell_type": "code",
   "execution_count": 8,
   "metadata": {},
   "outputs": [
    {
     "name": "stdout",
     "output_type": "stream",
     "text": [
      "SCAN_Kemole_Gulch_smap\n",
      "-155.54336633969766 19.92113535732078\n",
      "Shapefile saved: shapefiles\\SCAN_Kemole_Gulch_smap/SCAN_Kemole_Gulch_smap_polygons.shp\n",
      "SCAN_Kukuihaele_smap\n",
      "-155.54336633969766 20.0828321084623\n",
      "Shapefile saved: shapefiles\\SCAN_Kukuihaele_smap/SCAN_Kukuihaele_smap_polygons.shp\n",
      "SCAN_Mana_House_smap\n",
      "-155.54336633969766 19.92113535732078\n",
      "Shapefile saved: shapefiles\\SCAN_Mana_House_smap/SCAN_Mana_House_smap_polygons.shp\n",
      "SCAN_Silver_Sword_smap\n",
      "-155.38166958855615 19.759438606179277\n",
      "Shapefile saved: shapefiles\\SCAN_Silver_Sword_smap/SCAN_Silver_Sword_smap_polygons.shp\n",
      "SCAN_Waimea_Plain_smap\n",
      "-155.6242147152684 20.001983732891546\n",
      "Shapefile saved: shapefiles\\SCAN_Waimea_Plain_smap/SCAN_Waimea_Plain_smap_polygons.shp\n",
      "TAHMO_CRIG_(Soil_Moisture_Station_1)_smap\n",
      "-0.3144852438443593 6.257759885862868\n",
      "Shapefile saved: shapefiles\\TAHMO_CRIG_(Soil_Moisture_Station_1)_smap/TAHMO_CRIG_(Soil_Moisture_Station_1)_smap_polygons.shp\n",
      "TAHMO_CRIG_(Soil_Moisture_Station_2)_smap\n",
      "-0.3144852438443593 6.257759885862868\n",
      "Shapefile saved: shapefiles\\TAHMO_CRIG_(Soil_Moisture_Station_2)_smap/TAHMO_CRIG_(Soil_Moisture_Station_2)_smap_polygons.shp\n"
     ]
    }
   ],
   "source": [
    "sites_info_full = pd.read_csv('site_info.csv')\n",
    "sites_info_full['name'] = sites_info_full['network']+ '_' + sites_info_full['station'] + '_smap'\n",
    "\n",
    "sites_info = sites_info_full[sites_info_full['name'].isin(file_names)]\n",
    "# print(sites_info.head())\n",
    "output_dir = 'shapefiles'\n",
    "half_size_km = 4.5\n",
    "\n",
    "km_to_deg = half_size_km/111.32\n",
    "# Get the geometry of sites\n",
    "sites = {}\n",
    "sites_info\n",
    "\n",
    "for file_name in file_names:\n",
    "    print(file_name)\n",
    "    file_path = os.path.join(dir, f\"{file_name}.csv\")\n",
    "    df = pd.read_csv(file_path)\n",
    "    valid_rows = df.dropna(subset=['smap_soil_moisture_pm'])\n",
    "\n",
    "    print(valid_rows.iloc[0]['smap_lon'], valid_rows.iloc[0]['smap_lat'])\n",
    "    lat = valid_rows.iloc[0]['smap_lat']\n",
    "    lon = valid_rows.iloc[0]['smap_lon']\n",
    "\n",
    "    bottom_left = (lon-km_to_deg, lat-km_to_deg)\n",
    "    top_right = (lon+km_to_deg, lat+km_to_deg)\n",
    "\n",
    "    coordinates = [\n",
    "    bottom_left,\n",
    "    (bottom_left[0], top_right[1]),\n",
    "    top_right,\n",
    "    (top_right[0], bottom_left[1]),\n",
    "    bottom_left\n",
    "    ]\n",
    "\n",
    "    poly = Polygon(coordinates)\n",
    "\n",
    "    features = [{\n",
    "        \"geometry\": poly\n",
    "    }]\n",
    "\n",
    "    projectj_crs = CRS.from_epsg(4326)\n",
    "    # Create GeoDataFrame with the correct CRS\n",
    "    gdf = gpd.GeoDataFrame(features, crs=projectj_crs)\n",
    "\n",
    "    output_shapefile = os.path.join(output_dir, f\"{file_name}/{file_name}_polygons.shp\")\n",
    "    os.makedirs(os.path.join(output_dir, file_name), exist_ok=True)\n",
    "    gdf.to_file(output_shapefile, driver=\"ESRI Shapefile\")\n",
    "\n",
    "    print(f\"Shapefile saved: {output_shapefile}\")\n",
    "\n",
    "        \n"
   ]
  },
  {
   "cell_type": "code",
   "execution_count": null,
   "metadata": {},
   "outputs": [],
   "source": [
    "bottom_left = (105.79369269547192, 20.761225948939266)\n",
    "top_right = (106.17898012083079, 21.15415964656053)\n",
    "\n",
    "coordinates = [\n",
    "    bottom_left,\n",
    "    (bottom_left[0], top_right[1]),\n",
    "    top_right,\n",
    "    (top_right[0], bottom_left[1]),\n",
    "    bottom_left\n",
    "]\n",
    "\n",
    "poly = Polygon(coordinates)\n",
    "\n",
    "features = [{\n",
    "    \"geometry\": poly\n",
    "}]\n",
    "\n",
    "projectj_crs = CRS.from_epsg(4326)\n",
    "# Create GeoDataFrame with the correct CRS\n",
    "gdf = gpd.GeoDataFrame(features, crs=projectj_crs)\n",
    "\n",
    "file_name = \"1111\"\n",
    "output_shapefile = os.path.join(output_dir, f\"{file_name}_polygons.shp\")\n",
    "gdf.to_file(output_shapefile, driver=\"ESRI Shapefile\")\n",
    "\n",
    "print(f\"Shapefile saved: {output_shapefile}\")"
   ]
  }
 ],
 "metadata": {
  "kernelspec": {
   "display_name": "myenv",
   "language": "python",
   "name": "python3"
  },
  "language_info": {
   "codemirror_mode": {
    "name": "ipython",
    "version": 3
   },
   "file_extension": ".py",
   "mimetype": "text/x-python",
   "name": "python",
   "nbconvert_exporter": "python",
   "pygments_lexer": "ipython3",
   "version": "3.9.16"
  }
 },
 "nbformat": 4,
 "nbformat_minor": 2
}
